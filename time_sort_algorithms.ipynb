{
 "cells": [
  {
   "cell_type": "markdown",
   "metadata": {},
   "source": [
    "Playing with testing timings for sort algorithm"
   ]
  },
  {
   "cell_type": "code",
   "execution_count": 4,
   "metadata": {},
   "outputs": [],
   "source": [
    "# run this cell to define the merge function\n",
    "def merge(left, right):\n",
    "    \"\"\"supplied with two sorted lists left and right returns a merged sorted list\"\"\"\n",
    "    # if the left side or the right side is empty\n",
    "    # then there is no further merging needed\n",
    "    if not left:  # (in Python empty lists are False)\n",
    "        return left\n",
    "    if not right:\n",
    "        return right\n",
    "\n",
    "    # variables used in merging\n",
    "    result = []\n",
    "    left_index = 0\n",
    "    right_index = 0\n",
    "    total_length = len(left) + len(right)\n",
    "    \n",
    "    # merging will continue while items remain\n",
    "    while (len(result) < total_length):        \n",
    "        # the items are compared and merged \n",
    "        if left[left_index] <= right[right_index]:\n",
    "            result.append(left[left_index])\n",
    "            left_index += 1\n",
    "        else:\n",
    "            result.append(right[right_index])\n",
    "            right_index += 1\n",
    "        # special treatment for extra items if midpoint was unbalanced \n",
    "        if left_index == len(left) or right_index == len(right):\n",
    "                result.extend(left[left_index:] \n",
    "                              or right[right_index:])\n",
    "                break \n",
    "\n",
    "    return result"
   ]
  },
  {
   "cell_type": "code",
   "execution_count": 5,
   "metadata": {},
   "outputs": [],
   "source": [
    "# run this cell to define the merge_sort function\n",
    "def merge_sort(list_, print_progress=True):\n",
    "    \"\"\"sorts list by merge sort. Returns the sorted list. \"\"\"\n",
    "    if print_progress:\n",
    "        print(f'merge_sort list: {list_}, start')\n",
    "    # determine if list is already minimum size \n",
    "    if len(list_) < 2:\n",
    "        return list_\n",
    "\n",
    "    # Find the midpoint of the list\n",
    "    midpoint = (len(list_)+1)//2\n",
    "    \n",
    "    # split the list at the midpoint\n",
    "    left =  list_[:midpoint]\n",
    "    right = list_[midpoint:]\n",
    "\n",
    "    # sort the two parts by a recursive call to this function.\n",
    "    left =  merge_sort(left, print_progress)\n",
    "    right = merge_sort(right, print_progress)\n",
    "    if print_progress:\n",
    "        print(f'           list: {list_}, left: {left}')\n",
    "        print(f'           list: {list_}, right: {right}')\n",
    "    # merge the two sorted pieces using the merge function\n",
    "    merged = merge(left, right)\n",
    "    if print_progress:\n",
    "        print(f'           list: {list_}, end result {merged}')    \n",
    "    return merged"
   ]
  },
  {
   "cell_type": "code",
   "execution_count": 3,
   "metadata": {},
   "outputs": [
    {
     "name": "stdout",
     "output_type": "stream",
     "text": [
      "length 1 wall time 1.5735626220703125e-05\n",
      "length 10 wall time 3.719329833984375e-05\n",
      "length 100 wall time 0.00037097930908203125\n",
      "length 1000 wall time 0.004766941070556641\n",
      "length 10000 wall time 0.06226491928100586\n",
      "length 100000 wall time 0.7409420013427734\n",
      "length 1000000 wall time 8.67082405090332\n"
     ]
    }
   ],
   "source": [
    "from random import randint\n",
    "from time import time\n",
    "for power in range(7):    \n",
    "    start_time = time()\n",
    "    length = 10**power\n",
    "    test_list = [randint(1,1000) for _ in range(length)]\n",
    "    test_list = merge_sort(test_list, False)\n",
    "    end_time = time()\n",
    "    print('length', length, 'wall time', end_time-start_time)\n",
    "\n"
   ]
  },
  {
   "cell_type": "code",
   "execution_count": null,
   "metadata": {},
   "outputs": [],
   "source": []
  }
 ],
 "metadata": {
  "kernelspec": {
   "display_name": "Python 3",
   "language": "python",
   "name": "python3"
  },
  "language_info": {
   "codemirror_mode": {
    "name": "ipython",
    "version": 3
   },
   "file_extension": ".py",
   "mimetype": "text/x-python",
   "name": "python",
   "nbconvert_exporter": "python",
   "pygments_lexer": "ipython3",
   "version": "3.7.4"
  }
 },
 "nbformat": 4,
 "nbformat_minor": 2
}
