{
 "cells": [
  {
   "cell_type": "markdown",
   "metadata": {},
   "source": [
    "# Recursion in Sorting Algorithms: Merge Sort and QuickSort\n",
    "\n",
    "The sorting algorithms demonstrated in this notebook are the recursive ones described in the Lecture. These work by using a 'Divide-and-Conquer' approach to the sorting problem. The demonstrations use simple lists of integer numbers where it is clear how to interpret the relationship 'greater than'. For real-world problems it may not be so clear what the basis for sorting is. \n",
    "\n",
    "There are no duplicate values in the input data here. Again these will be possibly present in real-world problems. A common criterion for a good sorting algorithm is that it is 'stable' meaning that it conserves the order of duplicate data that was present originally. This means that it is essentially 'agnostic' about the ordering of duplicates - again in real-world data there may be additional information that can be used to justify the ordering: for example, first names when a group of people have been ordered by second names. \n",
    "\n",
    "## Merge Sort\n",
    "Merge Sort simply divides arrays recursively in half; even if there is not an even number of elements, the lengths will only differ by one extra.\n",
    "\n",
    "The sub-arrays will finally be groups of single elements which are sorted and merged together by a separate function. Recursion means that these are finally amalgamated to give an entire ordered array. Notice that, unlike the simpler Bubble, Insertion, and Selection Sorts the sorting is *not* done 'in place' so there will be additional memory overheads.\n",
    "\n",
    "Recall that Timsort which is the algorithm Python listsort function is a more sophisticated version of Merge Sort with special adaptive measures to exploit pre-existing ordered sections of the input data.\n",
    "\n",
    "Here two functions are used - merge is called by mergeSort which also calls itself recursively.\n",
    "\n",
    "The base case here is a single element sub-array which is the starting point for the merging steps.\n",
    "\n",
    "The dividing algorithm of Merge Sort is similar to a binary search scheme that has O(log n) performance. Each merging of sorted subarrays will be expect to have O(n) performance.\n",
    "Analysis gives the combined complexity of Merge Sort from these steps as O(n log n). \n",
    "This is independent of the degree of sorting already present, as even subarrays that are initially in order are partitioned fully. \n",
    "\n",
    "However being reliably O(n log n) means that Merge Sort outperforms the best possible from Selection Sort (O(n2)) and Insertion Sort (O(n)) described earlier.\n",
    "\n",
    "First here is the merge function."
   ]
  },
  {
   "cell_type": "code",
   "execution_count": 1,
   "metadata": {},
   "outputs": [],
   "source": [
    "def merge(left, right):\n",
    "    # if the left side or the right side is empty\n",
    "    # then there is no further merging needed\n",
    "    if not len(left):\n",
    "        return left\n",
    "    if not len(right):\n",
    "        return right\n",
    "\n",
    "    # variables used in merging\n",
    "    result = []\n",
    "    leftIndex = 0\n",
    "    rightIndex = 0\n",
    "    totalLength = len(left) + len(right)\n",
    "    \n",
    "    # merging will continue while items remain\n",
    "    while (len(result) < totalLength):\n",
    "        \n",
    "        # the items are compared and merged \n",
    "        if left[leftIndex] <= right[rightIndex]:\n",
    "            result.append(left[leftIndex])\n",
    "            leftIndex+= 1\n",
    "        else:\n",
    "            result.append(right[rightIndex])\n",
    "            rightIndex+= 1\n",
    "            \n",
    "        # special treatment for extra items if midpoint was unbalanced \n",
    "        if leftIndex == len(left) or \\\n",
    "            rightIndex == len(right):\n",
    "                result.extend(left[leftIndex:] \n",
    "                              or right[rightIndex:])\n",
    "                break \n",
    "\n",
    "    return result"
   ]
  },
  {
   "cell_type": "markdown",
   "metadata": {},
   "source": [
    "Here is the mergeSort function."
   ]
  },
  {
   "cell_type": "code",
   "execution_count": 8,
   "metadata": {},
   "outputs": [],
   "source": [
    "def mergeSort(list):\n",
    "    # determine if list is already minimum size \n",
    "    if len(list) < 2:\n",
    "        return list\n",
    "\n",
    "    # Find the midpoint of the list\n",
    "    midpoint = len(list)//2\n",
    "    \n",
    "    # split the list recursively\n",
    "    left = mergeSort(list[:midpoint])\n",
    "    right = mergeSort(list[midpoint:])\n",
    "\n",
    "    # merge the two sorted pieces using the merge function\n",
    "    # the print functions will keep track of the process\n",
    "    print(\"left: \", left)\n",
    "    print(\"right: \", right)\n",
    "    merged = merge(left, right)\n",
    "    print(\"merged: \", merged)\n",
    "    return merged"
   ]
  },
  {
   "cell_type": "markdown",
   "metadata": {},
   "source": [
    "Here is some test data. The merging steps are printed. "
   ]
  },
  {
   "cell_type": "code",
   "execution_count": 9,
   "metadata": {},
   "outputs": [
    {
     "name": "stdout",
     "output_type": "stream",
     "text": [
      "left:  [10]\n",
      "right:  [6]\n",
      "merged:  [6, 10]\n",
      "left:  [5]\n",
      "right:  [3]\n",
      "merged:  [3, 5]\n",
      "left:  [8]\n",
      "right:  [3, 5]\n",
      "merged:  [3, 5, 8]\n",
      "left:  [6, 10]\n",
      "right:  [3, 5, 8]\n",
      "merged:  [3, 5, 6, 8, 10]\n",
      "left:  [9]\n",
      "right:  [2]\n",
      "merged:  [2, 9]\n",
      "left:  [7]\n",
      "right:  [4]\n",
      "merged:  [4, 7]\n",
      "left:  [12]\n",
      "right:  [4, 7]\n",
      "merged:  [4, 7, 12]\n",
      "left:  [2, 9]\n",
      "right:  [4, 7, 12]\n",
      "merged:  [2, 4, 7, 9, 12]\n",
      "left:  [3, 5, 6, 8, 10]\n",
      "right:  [2, 4, 7, 9, 12]\n",
      "merged:  [2, 3, 4, 5, 6, 7, 8, 9, 10, 12]\n"
     ]
    },
    {
     "data": {
      "text/plain": [
       "[2, 3, 4, 5, 6, 7, 8, 9, 10, 12]"
      ]
     },
     "execution_count": 9,
     "metadata": {},
     "output_type": "execute_result"
    }
   ],
   "source": [
    "data = [10, 6, 8, 5, 3, 9, 2, 12, 7, 4]\n",
    "mergeSort(data)"
   ]
  },
  {
   "cell_type": "markdown",
   "metadata": {},
   "source": [
    "## Quicksort\n",
    "\n",
    "Quicksort takes a different approach. Recall that it is using a recursive application of a special *partitioning* function after selecting a pivot element. A series of comparisons and a final swap locates the pivot in its correct position. The Quicksort sorting algorithm is the one built into many programming languages. In real incarnations there are very many clever ways to select the best pivot but these are not dealt with here.\n",
    "\n",
    "No separate merging is required as all comparisons are done in the partitioning. \n",
    "\n",
    "The swapping function in Python is accomplished in a single line without a temporary variable. \n",
    "\n",
    "Here is the partition function."
   ]
  },
  {
   "cell_type": "code",
   "execution_count": 10,
   "metadata": {},
   "outputs": [],
   "source": [
    "def partition(data, left, right):\n",
    "    pivot = data[left]\n",
    "    leftIndex = left + 1\n",
    "    rightIndex = right\n",
    "    \n",
    "    while True:\n",
    "        while leftIndex <= rightIndex and data[leftIndex] <= pivot:\n",
    "            leftIndex += 1\n",
    "        while rightIndex >= leftIndex and data[rightIndex] >= pivot:\n",
    "            rightIndex -= 1\n",
    "        if rightIndex <= leftIndex:\n",
    "            break\n",
    "        data[leftIndex], data[rightIndex] = \\\n",
    "            data[rightIndex], data[leftIndex]\n",
    "        print(data)\n",
    "        \n",
    "    data[left], data[rightIndex] = data[rightIndex], data[left]\n",
    "    print(data)\n",
    "    return rightIndex"
   ]
  },
  {
   "cell_type": "markdown",
   "metadata": {},
   "source": [
    "Here is the QuickSort function, as with Merge Sort this is recursive as the function calls itself. The range specification is included in the call to the function."
   ]
  },
  {
   "cell_type": "code",
   "execution_count": 11,
   "metadata": {},
   "outputs": [],
   "source": [
    "def quickSort(data, left, right):\n",
    "    if right <= left:\n",
    "        return\n",
    "    else:\n",
    "        pivot = partition(data, left, right)\n",
    "        quickSort(data, left, pivot-1)\n",
    "        quickSort(data, pivot+1, right)\n",
    "        \n",
    "    return data"
   ]
  },
  {
   "cell_type": "markdown",
   "metadata": {},
   "source": [
    "Here is the function applied to the test data. We have to specify the range."
   ]
  },
  {
   "cell_type": "code",
   "execution_count": 12,
   "metadata": {},
   "outputs": [
    {
     "name": "stdout",
     "output_type": "stream",
     "text": [
      "[10, 6, 8, 5, 3, 9, 2, 4, 7, 12]\n",
      "[7, 6, 8, 5, 3, 9, 2, 4, 10, 12]\n",
      "[7, 6, 4, 5, 3, 9, 2, 8, 10, 12]\n",
      "[7, 6, 4, 5, 3, 2, 9, 8, 10, 12]\n",
      "[2, 6, 4, 5, 3, 7, 9, 8, 10, 12]\n",
      "[2, 6, 4, 5, 3, 7, 9, 8, 10, 12]\n",
      "[2, 3, 4, 5, 6, 7, 9, 8, 10, 12]\n",
      "[2, 3, 4, 5, 6, 7, 9, 8, 10, 12]\n",
      "[2, 3, 4, 5, 6, 7, 9, 8, 10, 12]\n",
      "[2, 3, 4, 5, 6, 7, 8, 9, 10, 12]\n"
     ]
    },
    {
     "data": {
      "text/plain": [
       "[2, 3, 4, 5, 6, 7, 8, 9, 10, 12]"
      ]
     },
     "execution_count": 12,
     "metadata": {},
     "output_type": "execute_result"
    }
   ],
   "source": [
    "quickSort(data, 0, len(data)-1)"
   ]
  },
  {
   "cell_type": "code",
   "execution_count": null,
   "metadata": {},
   "outputs": [],
   "source": []
  }
 ],
 "metadata": {
  "kernelspec": {
   "display_name": "Python 3",
   "language": "python",
   "name": "python3"
  },
  "language_info": {
   "codemirror_mode": {
    "name": "ipython",
    "version": 3
   },
   "file_extension": ".py",
   "mimetype": "text/x-python",
   "name": "python",
   "nbconvert_exporter": "python",
   "pygments_lexer": "ipython3",
   "version": "3.7.4"
  }
 },
 "nbformat": 4,
 "nbformat_minor": 2
}
