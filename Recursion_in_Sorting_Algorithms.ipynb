{
 "cells": [
  {
   "cell_type": "markdown",
   "metadata": {},
   "source": [
    "# Recursion in Sorting Algorithms: Merge Sort and QuickSort\n",
    "\n",
    "The sorting algorithms demonstrated in this notebook are the recursive ones described in the Lecture. These work by using a 'Divide-and-Conquer' approach to the sorting problem. The demonstrations use simple lists of integer numbers where it is clear how to interpret the relationship 'greater than'. For real-world problems it may not be so clear what the basis for sorting is. \n",
    "\n",
    "There are no duplicate values in the input data here. Again these will be possibly present in real-world problems. A common criterion for a good sorting algorithm is that it is 'stable' meaning that it conserves the order of duplicate data that was present originally. This means that it is essentially 'agnostic' about the ordering of duplicates - again in real-world data there may be additional information that can be used to justify the ordering: for example, first names when a group of people have been ordered by second names. \n",
    "\n",
    "## Merge Sort\n",
    "Merge Sort simply divides arrays recursively in half; even if there is not an even number of elements, the lengths will only differ by one extra.\n",
    "\n",
    "The sub-arrays will finally be groups of single elements which are sorted and merged together by a separate function. Recursion means that these are finally amalgamated to give an entire ordered array. Notice that, unlike the simpler Bubble, Insertion, and Selection Sorts the sorting is *not* done 'in place' so there will be additional memory overheads.\n",
    "\n",
    "Recall that Timsort which is the algorithm Python listsort function is a more sophisticated version of Merge Sort with special adaptive measures to exploit pre-existing ordered sections of the input data.\n",
    "\n",
    "Here two functions are used - `merge` is called by `merge_sort` which also calls itself recursively.\n",
    "\n",
    "The base case here is a single element sub-array which is the starting point for the merging steps.\n",
    "\n",
    "The dividing algorithm of Merge Sort is similar to a binary search scheme that has O(log n) performance. Each merging of sorted subarrays will be expect to have O(n) performance.\n",
    "Analysis gives the combined complexity of Merge Sort from these steps as O(n log n). \n",
    "This is independent of the degree of sorting already present, as even subarrays that are initially in order are partitioned fully. \n",
    "\n",
    "However being reliably O(n log n) means that Merge Sort outperforms the best possible from Selection Sort (O(n<sup>2</sup>)) and Insertion Sort (O(n)) algorithms described earlier.\n",
    "\n",
    "First here is the `merge` function."
   ]
  },
  {
   "cell_type": "code",
   "execution_count": 1,
   "metadata": {},
   "outputs": [],
   "source": [
    "# run this cell\n",
    "def print_function_call_number(reset=False):\n",
    "    \"\"\" function to print out an index of function calls\"\"\"\n",
    "    if reset:\n",
    "        print_function_call_number.counter = 0\n",
    "    try:\n",
    "        print_function_call_number.counter += 1\n",
    "    except AttributeError:\n",
    "        print_function_call_number.counter = 0\n",
    "    print(f'function call number: {print_function_call_number.counter}')"
   ]
  },
  {
   "cell_type": "code",
   "execution_count": 2,
   "metadata": {},
   "outputs": [],
   "source": [
    "# run this cell to define the merge function\n",
    "def merge(left, right, print_progress=True):\n",
    "    \"\"\"supplied with two sorted lists left and right returns a merged sorted list\"\"\"\n",
    "    if print_progress:\n",
    "        print_function_call_number()\n",
    "        print(f'merge {left} and {right}')\n",
    "    # if the left side or the right side is empty\n",
    "    # then there is no further merging needed\n",
    "    if not left:  # (in Python empty lists are False)\n",
    "        return left\n",
    "    if not right:\n",
    "        return right\n",
    "\n",
    "    # variables used in merging\n",
    "    result = []\n",
    "    left_index = 0\n",
    "    right_index = 0\n",
    "    total_length = len(left) + len(right)\n",
    "    \n",
    "    # merging will continue while items remain\n",
    "    while (len(result) < total_length):        \n",
    "        # the items are compared and merged \n",
    "        if left[left_index] <= right[right_index]:\n",
    "            result.append(left[left_index])\n",
    "            left_index += 1\n",
    "        else:\n",
    "            result.append(right[right_index])\n",
    "            right_index += 1\n",
    "        # special treatment for extra items if midpoint was unbalanced \n",
    "        if left_index == len(left) or right_index == len(right):\n",
    "                result.extend(left[left_index:] \n",
    "                              or right[right_index:])\n",
    "                break \n",
    "\n",
    "    return result"
   ]
  },
  {
   "cell_type": "markdown",
   "metadata": {},
   "source": [
    "Here is the `merge_sort` function."
   ]
  },
  {
   "cell_type": "code",
   "execution_count": 3,
   "metadata": {},
   "outputs": [],
   "source": [
    "# run this cell to define the merge_sort function\n",
    "def merge_sort(list_, print_progress=True):\n",
    "    \"\"\"sorts list by merge sort. Returns the sorted list. \"\"\"\n",
    "    if print_progress:\n",
    "        print_function_call_number()\n",
    "\n",
    "    # determine if list is already minimum size \n",
    "    if len(list_) < 2:\n",
    "        if print_progress:\n",
    "            print(f'\\t merge_sort list: {list_} is length 1')\n",
    "        return list_\n",
    "    \n",
    "    if print_progress:\n",
    "        print(f'\\t merge_sort list: {list_}, start')\n",
    "    # Find the midpoint of the list\n",
    "    midpoint = (len(list_)+1)//2\n",
    "    \n",
    "    # split the list at the midpoint\n",
    "    left =  list_[:midpoint]\n",
    "    right = list_[midpoint:]\n",
    "\n",
    "    # sort the two parts by a recursive call to this function.\n",
    "    left =  merge_sort(left, print_progress)\n",
    "    right = merge_sort(right, print_progress)\n",
    "    if print_progress:\n",
    "        print(f'\\t           list: {list_}, left: {left}')\n",
    "        print(f'\\t           list: {list_}, right: {right}')\n",
    "    # merge the two sorted pieces using the merge function\n",
    "    merged = merge(left, right, print_progress)\n",
    "    if print_progress:\n",
    "        print(f'\\t           list: {list_}, end result {merged}')    \n",
    "    return merged"
   ]
  },
  {
   "cell_type": "markdown",
   "metadata": {},
   "source": [
    "Let's understand the `merge_sort` algorithm by considering how it works on the list:\n",
    "```python\n",
    "test_a = [8, 1, 7, 5, 2]\n",
    "```"
   ]
  },
  {
   "cell_type": "code",
   "execution_count": 4,
   "metadata": {},
   "outputs": [],
   "source": [
    "# run this cell to define the test_a list as above\n",
    "test_a = [8, 1, 7, 5, 2]"
   ]
  },
  {
   "cell_type": "code",
   "execution_count": 5,
   "metadata": {},
   "outputs": [],
   "source": [
    "# complete the following \n",
    "\n",
    "# Question: What is the length of the test_a list?\n",
    "### your answer - python code"
   ]
  },
  {
   "cell_type": "markdown",
   "metadata": {},
   "source": [
    "line 10 of the `merge_sort` function is \n",
    "```python\n",
    "midpoint = (len(list_)+1)//2\n",
    "```"
   ]
  },
  {
   "cell_type": "code",
   "execution_count": 6,
   "metadata": {},
   "outputs": [],
   "source": [
    "# Question what does the // operator do in Python?\n",
    "### your answer in this comment\n",
    "\n",
    "# in the call for our test list test_a what will the midpoint value be in the first call?\n",
    "### Write Python code to find out  "
   ]
  },
  {
   "cell_type": "markdown",
   "metadata": {},
   "source": [
    "line 13 and 14 of `merge_sort` split the list into two parts:\n",
    "```python\n",
    "# split the list at the midpoint\n",
    "    left =  list_[:midpoint]\n",
    "    right = list_[midpoint:]\n",
    "```"
   ]
  },
  {
   "cell_type": "code",
   "execution_count": 7,
   "metadata": {},
   "outputs": [],
   "source": [
    "# Question what will be the `left` and `right` lists in the first call to `merge_sort`?\n",
    "\n",
    "# the left list will be:\n",
    "### your answer\n",
    "\n",
    "# the right list will be\n",
    "### your answer"
   ]
  },
  {
   "cell_type": "code",
   "execution_count": 8,
   "metadata": {},
   "outputs": [],
   "source": [
    "# Question after the list is split what happens next (see comment on line 22)?\n",
    "###"
   ]
  },
  {
   "cell_type": "markdown",
   "metadata": {},
   "source": [
    "So we can construct a diagram of the recursive calls to `merge_sort` and the `merge` function just like you have seen in the lectures \n",
    "\n",
    "<img src=https://aru-bioinf-ibds.github.io./images/merge_sort.png>\n",
    "\n",
    "To make it easier to construct the diagram the `merge_sort` function prints out its progress"
   ]
  },
  {
   "cell_type": "code",
   "execution_count": 9,
   "metadata": {},
   "outputs": [
    {
     "name": "stdout",
     "output_type": "stream",
     "text": [
      "function call number: 0\n",
      "\t merge_sort list: [8, 1, 7, 5, 2], start\n",
      "function call number: 1\n",
      "\t merge_sort list: [8, 1, 7], start\n",
      "function call number: 2\n",
      "\t merge_sort list: [8, 1], start\n",
      "function call number: 3\n",
      "\t merge_sort list: [8] is length 1\n",
      "function call number: 4\n",
      "\t merge_sort list: [1] is length 1\n",
      "\t           list: [8, 1], left: [8]\n",
      "\t           list: [8, 1], right: [1]\n",
      "function call number: 5\n",
      "merge [8] and [1]\n",
      "\t           list: [8, 1], end result [1, 8]\n",
      "function call number: 6\n",
      "\t merge_sort list: [7] is length 1\n",
      "\t           list: [8, 1, 7], left: [1, 8]\n",
      "\t           list: [8, 1, 7], right: [7]\n",
      "function call number: 7\n",
      "merge [1, 8] and [7]\n",
      "\t           list: [8, 1, 7], end result [1, 7, 8]\n",
      "function call number: 8\n",
      "\t merge_sort list: [5, 2], start\n",
      "function call number: 9\n",
      "\t merge_sort list: [5] is length 1\n",
      "function call number: 10\n",
      "\t merge_sort list: [2] is length 1\n",
      "\t           list: [5, 2], left: [5]\n",
      "\t           list: [5, 2], right: [2]\n",
      "function call number: 11\n",
      "merge [5] and [2]\n",
      "\t           list: [5, 2], end result [2, 5]\n",
      "\t           list: [8, 1, 7, 5, 2], left: [1, 7, 8]\n",
      "\t           list: [8, 1, 7, 5, 2], right: [2, 5]\n",
      "function call number: 12\n",
      "merge [1, 7, 8] and [2, 5]\n",
      "\t           list: [8, 1, 7, 5, 2], end result [1, 2, 5, 7, 8]\n"
     ]
    },
    {
     "data": {
      "text/plain": [
       "[1, 2, 5, 7, 8]"
      ]
     },
     "execution_count": 9,
     "metadata": {},
     "output_type": "execute_result"
    }
   ],
   "source": [
    "# run this cell to run merge_sort on test_a and see its progress\n",
    "merge_sort(test_a)"
   ]
  },
  {
   "cell_type": "markdown",
   "metadata": {},
   "source": [
    "Your job is to hand draw a flow diagram like the one above for merge_sort on test_a. I have started doing a diagram - you should copy this and use the progress output from the cell above to complete the diagram.\n",
    "\n",
    "**Please note you will need to upload a picture of your diagram for the assessed TW2 quiz**\n",
    "\n",
    "<img src='https://aru-bioinf-ibds.github.io./images/merge_sort_on_test_a_start.JPG' width=40%>"
   ]
  },
  {
   "cell_type": "markdown",
   "metadata": {},
   "source": [
    "As a user exercise apply merge_sort to the lecture example:\n",
    "\n",
    "<img src=https://aru-bioinf-ibds.github.io./images/merge_sort.png>\n",
    "\n",
    "Do the function call progress printout agree with the diagram?"
   ]
  },
  {
   "cell_type": "code",
   "execution_count": 10,
   "metadata": {},
   "outputs": [],
   "source": [
    "# you will first need to reset the counter of function calls\n",
    "print_function_call_number.counter = 0\n",
    "# now your code for merge_sort on lecture example\n",
    "### your code here"
   ]
  },
  {
   "cell_type": "code",
   "execution_count": null,
   "metadata": {},
   "outputs": [],
   "source": []
  },
  {
   "cell_type": "markdown",
   "metadata": {},
   "source": [
    "## Quicksort\n",
    "\n",
    "Quicksort takes a different approach. Recall that it is using a recursive application of a special *partitioning* function after selecting a pivot element. A series of comparisons and a final swap locates the pivot in its correct position. The Quicksort sorting algorithm is the one built into many programming languages. In real incarnations there are very many clever ways to select the best pivot but these are not dealt with here.\n",
    "\n",
    "No separate merging is required as all comparisons are done in the partitioning. \n",
    "\n",
    "The swapping function in Python is accomplished in a single line without a temporary variable. \n",
    "\n",
    "Here is the partition function."
   ]
  },
  {
   "cell_type": "code",
   "execution_count": 11,
   "metadata": {},
   "outputs": [],
   "source": [
    "def partition(data, left, right):\n",
    "    pivot = data[left]\n",
    "    left_index = left + 1\n",
    "    right_index = right\n",
    "    \n",
    "    while True:\n",
    "        while left_index <= right_index and data[left_index] <= pivot:\n",
    "            left_index += 1\n",
    "        while right_index >= left_index and data[right_index] >= pivot:\n",
    "            right_index -= 1\n",
    "        if right_index <= left_index:\n",
    "            break\n",
    "        data[left_index], data[right_index] = \\\n",
    "            data[right_index], data[left_index]\n",
    "        print(data)\n",
    "        \n",
    "    data[left], data[right_index] = data[right_index], data[left]\n",
    "    print(data)\n",
    "    return right_index"
   ]
  },
  {
   "cell_type": "markdown",
   "metadata": {},
   "source": [
    "Here is the QuickSort function, as with Merge Sort this is recursive as the function calls itself. The range specification is included in the call to the function."
   ]
  },
  {
   "cell_type": "code",
   "execution_count": 12,
   "metadata": {},
   "outputs": [],
   "source": [
    "def quick_sort(data, left, right):\n",
    "    if right <= left:\n",
    "        return\n",
    "    else:\n",
    "        pivot = partition(data, left, right)\n",
    "        quick_sort(data, left, pivot-1)\n",
    "        quick_sort(data, pivot+1, right)\n",
    "        \n",
    "    return data"
   ]
  },
  {
   "cell_type": "markdown",
   "metadata": {},
   "source": [
    "Here is the function applied to the test data. We have to specify the range."
   ]
  },
  {
   "cell_type": "code",
   "execution_count": 14,
   "metadata": {},
   "outputs": [
    {
     "name": "stdout",
     "output_type": "stream",
     "text": [
      "[2, 1, 7, 5, 8]\n",
      "[1, 2, 7, 5, 8]\n",
      "[1, 2, 5, 7, 8]\n"
     ]
    },
    {
     "data": {
      "text/plain": [
       "[1, 2, 5, 7, 8]"
      ]
     },
     "execution_count": 14,
     "metadata": {},
     "output_type": "execute_result"
    }
   ],
   "source": [
    "quick_sort(test_a, 0, len(test_a)-1)"
   ]
  },
  {
   "cell_type": "markdown",
   "metadata": {},
   "source": [
    "*User exercise draw a diagram like that on slide 25 showing the progress `quick_sort` on `test_a`*"
   ]
  },
  {
   "cell_type": "markdown",
   "metadata": {},
   "source": [
    "*user exercise* the quick_sort function above is inconvenient to use. \n",
    "Alter it using optional arguments for `left` and `right` so that\n",
    "```python\n",
    "quick_sort(test_a)\n",
    "```\n",
    "works."
   ]
  },
  {
   "cell_type": "code",
   "execution_count": null,
   "metadata": {},
   "outputs": [],
   "source": []
  }
 ],
 "metadata": {
  "kernelspec": {
   "display_name": "Python 3",
   "language": "python",
   "name": "python3"
  },
  "language_info": {
   "codemirror_mode": {
    "name": "ipython",
    "version": 3
   },
   "file_extension": ".py",
   "mimetype": "text/x-python",
   "name": "python",
   "nbconvert_exporter": "python",
   "pygments_lexer": "ipython3",
   "version": "3.7.4"
  }
 },
 "nbformat": 4,
 "nbformat_minor": 2
}
