{
 "cells": [
  {
   "cell_type": "markdown",
   "metadata": {},
   "source": [
    "# Hash map function choice\n",
    "\n",
    "One of the features of most hash table keys is that they will be *strings*. These will not be immediately useful for making an integer that can be changed to a hash table address. \n",
    "\n",
    "For example, the common example of a _modulus_ function to select the slot in the table requires an integer. \n",
    "\n",
    "A hash map function must be used to change a string key into an integer?.\n",
    "\n",
    "One possible way is the ord() function which takes a character and returns its numbering in the Unicode lookup table data. "
   ]
  },
  {
   "cell_type": "code",
   "execution_count": 1,
   "metadata": {},
   "outputs": [
    {
     "data": {
      "text/plain": [
       "(97, 122)"
      ]
     },
     "execution_count": 1,
     "metadata": {},
     "output_type": "execute_result"
    }
   ],
   "source": [
    "# run this cell to see ord values for 'a' and 'z'\n",
    "ord('a'), ord('z')"
   ]
  },
  {
   "cell_type": "markdown",
   "metadata": {},
   "source": [
    "So one commonly suggested way to produce an integer key from a string is to add together the ord() values of its characters. "
   ]
  },
  {
   "cell_type": "code",
   "execution_count": null,
   "metadata": {},
   "outputs": [],
   "source": [
    "def hash01(mystring, hashTableSize):\n",
    "    _sum = 0\n",
    "    for char in mystring:\n",
    "        _sum += ord(char)        \n",
    "    return _sum%hashTableSize\n",
    "hash01(\"AUG\", 27)"
   ]
  },
  {
   "cell_type": "markdown",
   "metadata": {},
   "source": [
    "One obvious issue with a simple sum is that of course it does not depend on order. This would create a lot of collisions especially with a limited alphabet. "
   ]
  },
  {
   "cell_type": "code",
   "execution_count": null,
   "metadata": {},
   "outputs": [],
   "source": [
    "hash01(\"GUA\", 27), hash01(\"AGU\", 27)"
   ]
  },
  {
   "cell_type": "markdown",
   "metadata": {},
   "source": [
    "A way to get around this is to weight each character position. For example using the position of the character in the string. This is available via the enumerate function. "
   ]
  },
  {
   "cell_type": "code",
   "execution_count": null,
   "metadata": {},
   "outputs": [],
   "source": [
    "def hash02(mystring, hashTableSize):\n",
    "    _sum = 0\n",
    "    for index, char in enumerate(mystring, start=1):\n",
    "        _sum += ord(char) * index        \n",
    "    return _sum%hashTableSize\n",
    "\n",
    "hash02(\"GUA\", 27), hash02(\"AGU\", 27)"
   ]
  },
  {
   "cell_type": "markdown",
   "metadata": {},
   "source": [
    "One other simple approach is to convert the ordinals into binary but then to simply concatenate the digits rather than using addition. The result can be converted back to a base 10 integer key using the int() function with a base '2' option.\n",
    "So GUA would be '71' '85' '65' or '1000111' '1010101' '1000001' giving 100011110101011000001 which is converted to 1174209 by the int function. "
   ]
  },
  {
   "cell_type": "code",
   "execution_count": null,
   "metadata": {},
   "outputs": [],
   "source": [
    "def hash03(mystring, hashTableSize):\n",
    "    concat = ''.join(format(ord(i), 'b') for i in mystring)        \n",
    "    return int(concat,2)%hashTableSize"
   ]
  },
  {
   "cell_type": "code",
   "execution_count": null,
   "metadata": {},
   "outputs": [],
   "source": [
    "hash03(\"GUA\", 27), hash03(\"AGU\", 27)"
   ]
  }
 ],
 "metadata": {
  "kernelspec": {
   "display_name": "Python 3",
   "language": "python",
   "name": "python3"
  },
  "language_info": {
   "codemirror_mode": {
    "name": "ipython",
    "version": 3
   },
   "file_extension": ".py",
   "mimetype": "text/x-python",
   "name": "python",
   "nbconvert_exporter": "python",
   "pygments_lexer": "ipython3",
   "version": "3.7.4"
  }
 },
 "nbformat": 4,
 "nbformat_minor": 2
}
